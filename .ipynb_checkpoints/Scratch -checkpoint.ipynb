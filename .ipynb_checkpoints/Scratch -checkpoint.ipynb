{
 "cells": [
  {
   "cell_type": "code",
   "execution_count": 2,
   "metadata": {},
   "outputs": [],
   "source": [
    "from urllib.request import urlopen\n",
    "from io import StringIO\n",
    "import csv\n",
    "from bs4 import BeautifulSoup as bs\n",
    "import requests\n",
    "import re\n"
   ]
  },
  {
   "cell_type": "code",
   "execution_count": 11,
   "metadata": {},
   "outputs": [
    {
     "data": {
      "text/plain": [
       "\"Name,Year\\nMonty Python's Flying Circus,1970\\nAnother Monty Python Record,1971\\nMonty Python's Previous Record,1972\\nThe Monty Python Matching Tie and Handkerchief,1973\\nMonty Python Live at Drury Lane,1974\\nAn Album of the Soundtrack of the Trailer of the Film of Monty Python and the Holy Grail,1975\\nMonty Python Live at City Center,1977\\nThe Monty Python Instant Record Collection,1977\\nMonty Python's Life of Brian,1979\\nMonty Python's Cotractual Obligation Album,1980\\nMonty Python's The Meaning of Life,1983\\nThe Final Rip Off,1987\\nMonty Python Sings,1989\\nThe Ultimate Monty Python Rip Off,1994\\nMonty Python Sings Again,2014\""
      ]
     },
     "execution_count": 11,
     "metadata": {},
     "output_type": "execute_result"
    }
   ],
   "source": [
    "data = urlopen(\"http://pythonscraping.com/files/MontyPythonAlbums.csv\").read().decode('ASCII', 'ignore')\n",
    "data"
   ]
  },
  {
   "cell_type": "code",
   "execution_count": 12,
   "metadata": {},
   "outputs": [
    {
     "data": {
      "text/plain": [
       "str"
      ]
     },
     "execution_count": 12,
     "metadata": {},
     "output_type": "execute_result"
    }
   ],
   "source": [
    "type(data)"
   ]
  },
  {
   "cell_type": "code",
   "execution_count": 15,
   "metadata": {},
   "outputs": [
    {
     "name": "stdout",
     "output_type": "stream",
     "text": [
      "['Name', 'Year']\n",
      "[\"Monty Python's Flying Circus\", '1970']\n",
      "['Another Monty Python Record', '1971']\n",
      "[\"Monty Python's Previous Record\", '1972']\n",
      "['The Monty Python Matching Tie and Handkerchief', '1973']\n",
      "['Monty Python Live at Drury Lane', '1974']\n",
      "['An Album of the Soundtrack of the Trailer of the Film of Monty Python and the Holy Grail', '1975']\n",
      "['Monty Python Live at City Center', '1977']\n",
      "['The Monty Python Instant Record Collection', '1977']\n",
      "[\"Monty Python's Life of Brian\", '1979']\n",
      "[\"Monty Python's Cotractual Obligation Album\", '1980']\n",
      "[\"Monty Python's The Meaning of Life\", '1983']\n",
      "['The Final Rip Off', '1987']\n",
      "['Monty Python Sings', '1989']\n",
      "['The Ultimate Monty Python Rip Off', '1994']\n",
      "['Monty Python Sings Again', '2014']\n"
     ]
    }
   ],
   "source": [
    "for i in csv.reader(StringIO(data)):\n",
    "    print(i)"
   ]
  },
  {
   "cell_type": "code",
   "execution_count": null,
   "metadata": {},
   "outputs": [],
   "source": []
  }
 ],
 "metadata": {
  "kernelspec": {
   "display_name": "Python 3",
   "language": "python",
   "name": "python3"
  },
  "language_info": {
   "codemirror_mode": {
    "name": "ipython",
    "version": 3
   },
   "file_extension": ".py",
   "mimetype": "text/x-python",
   "name": "python",
   "nbconvert_exporter": "python",
   "pygments_lexer": "ipython3",
   "version": "3.6.8"
  }
 },
 "nbformat": 4,
 "nbformat_minor": 2
}
