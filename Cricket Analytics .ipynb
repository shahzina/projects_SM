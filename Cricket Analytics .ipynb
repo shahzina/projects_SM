{
 "cells": [
  {
   "cell_type": "markdown",
   "metadata": {},
   "source": [
    "# Cricket Analytics - Howzzat! "
   ]
  },
  {
   "cell_type": "markdown",
   "metadata": {},
   "source": [
    "#### Notes to self: \n",
    "1- Get match data. (build on original howzzat) <br>\n",
    "2- Get team data. <br> \n",
    "3- Get player data. <br> \n",
    "4- Get commentary. <br> "
   ]
  },
  {
   "cell_type": "code",
   "execution_count": 1,
   "metadata": {},
   "outputs": [],
   "source": [
    "from urllib.request import urlopen\n",
    "from bs4 import BeautifulSoup as bs\n",
    "import requests\n",
    "import re"
   ]
  },
  {
   "cell_type": "code",
   "execution_count": null,
   "metadata": {},
   "outputs": [],
   "source": [
    "#starting with the player profiles"
   ]
  },
  {
   "cell_type": "code",
   "execution_count": 2,
   "metadata": {},
   "outputs": [],
   "source": [
    "html = urlopen(\"https://www.espncricinfo.com/ci/content/player/country.html?country=6\")\n",
    "soup = bs(html.read(), 'html.parser')"
   ]
  },
  {
   "cell_type": "code",
   "execution_count": 6,
   "metadata": {},
   "outputs": [
    {
     "name": "stdout",
     "output_type": "stream",
     "text": [
      "<table class=\"playersTable\" style=\"margin-top:15px;\">\n",
      "<tr>\n",
      "<td class=\"divider\"><a href=\"/ci/content/player/398438.html\">MA Agarwal</a> </td>\n",
      "<td class=\"divider\"><a href=\"/ci/content/player/26421.html\">R Ashwin</a></td>\n",
      "<td><a href=\"/ci/content/player/625383.html\">JJ Bumrah</a></td>\n",
      "</tr>\n",
      "<tr class=\"odd\">\n",
      "<td class=\"divider\"><a href=\"/ci/content/player/430246.html\">YS Chahal</a></td>\n",
      "<td class=\"divider\"><a href=\"/ci/content/player/447261.html\">DL Chahar</a></td>\n",
      "<td><a href=\"/ci/content/player/28235.html\">S Dhawan</a></td>\n",
      "</tr>\n",
      "<tr>\n",
      "<td class=\"divider\"><a href=\"/ci/content/player/714451.html\">S Dube</a></td>\n",
      "<td class=\"divider\"><a href=\"/ci/content/player/642519.html\">SS Iyer</a></td>\n",
      "<td><a href=\"/ci/content/player/234675.html\">RA Jadeja</a></td>\n",
      "</tr>\n",
      "<tr class=\"odd\">\n",
      "<td class=\"divider\"><a href=\"/ci/content/player/290716.html\">KM Jadhav</a></td>\n",
      "<td class=\"divider\"><a href=\"/ci/content/player/253802.html\">V Kohli</a></td>\n",
      "<td><a href=\"/ci/content/player/559235.html\">Kuldeep Yadav</a></td>\n",
      "</tr>\n",
      "<tr>\n",
      "<td class=\"divider\"><a href=\"/ci/content/player/326016.html\">B Kumar</a></td>\n",
      "<td class=\"divider\"><a href=\"/ci/content/player/481896.html\">Mohammed Shami</a></td>\n",
      "<td><a href=\"/ci/content/player/290630.html\">MK Pandey</a></td>\n",
      "</tr>\n",
      "<tr class=\"odd\">\n",
      "<td class=\"divider\"><a href=\"/ci/content/player/625371.html\">HH Pandya</a></td>\n",
      "<td class=\"divider\"><a href=\"/ci/content/player/931581.html\">RR Pant</a></td>\n",
      "<td><a href=\"/ci/content/player/32540.html\">CA Pujara</a></td>\n",
      "</tr>\n",
      "<tr>\n",
      "<td class=\"divider\"><a href=\"/ci/content/player/277916.html\">AM Rahane</a></td>\n",
      "<td class=\"divider\"><a href=\"/ci/content/player/422108.html\">KL Rahul</a></td>\n",
      "<td><a href=\"/ci/content/player/279810.html\">WP Saha</a></td>\n",
      "</tr>\n",
      "<tr class=\"odd\">\n",
      "<td class=\"divider\"><a href=\"/ci/content/player/700167.html\">NA Saini</a></td>\n",
      "<td class=\"divider\"><a href=\"/ci/content/player/425943.html\">SV Samson</a></td>\n",
      "<td><a href=\"/ci/content/player/236779.html\">I Sharma</a></td>\n",
      "</tr>\n",
      "<tr>\n",
      "<td class=\"divider\"><a href=\"/ci/content/player/34102.html\">RG Sharma</a></td>\n",
      "<td class=\"divider\"><a href=\"/ci/content/player/1070168.html\">PP Shaw</a></td>\n",
      "<td><a href=\"/ci/content/player/475281.html\">SN Thakur</a></td>\n",
      "</tr>\n",
      "<tr class=\"odd\">\n",
      "<td class=\"divider\"><a href=\"/ci/content/player/452044.html\">GH Vihari</a></td>\n",
      "<td class=\"divider\"><a href=\"/ci/content/player/719715.html\">Washington Sundar</a></td>\n",
      "<td><a href=\"/ci/content/player/376116.html\">UT Yadav</a></td>\n",
      "</tr>\n",
      "<tr>\n",
      "</tr></table>\n"
     ]
    }
   ],
   "source": [
    "#fin\n",
    "table = soup.table\n",
    "print(table)"
   ]
  },
  {
   "cell_type": "code",
   "execution_count": 15,
   "metadata": {},
   "outputs": [
    {
     "name": "stdout",
     "output_type": "stream",
     "text": [
      "<a href=\"/ci/content/player/398438.html\">MA Agarwal</a>\n",
      "<a href=\"/ci/content/player/26421.html\">R Ashwin</a>\n",
      "<a href=\"/ci/content/player/625383.html\">JJ Bumrah</a>\n",
      "<a href=\"/ci/content/player/430246.html\">YS Chahal</a>\n",
      "<a href=\"/ci/content/player/447261.html\">DL Chahar</a>\n",
      "<a href=\"/ci/content/player/28235.html\">S Dhawan</a>\n",
      "<a href=\"/ci/content/player/714451.html\">S Dube</a>\n",
      "<a href=\"/ci/content/player/642519.html\">SS Iyer</a>\n",
      "<a href=\"/ci/content/player/234675.html\">RA Jadeja</a>\n",
      "<a href=\"/ci/content/player/290716.html\">KM Jadhav</a>\n",
      "<a href=\"/ci/content/player/253802.html\">V Kohli</a>\n",
      "<a href=\"/ci/content/player/559235.html\">Kuldeep Yadav</a>\n",
      "<a href=\"/ci/content/player/326016.html\">B Kumar</a>\n",
      "<a href=\"/ci/content/player/481896.html\">Mohammed Shami</a>\n",
      "<a href=\"/ci/content/player/290630.html\">MK Pandey</a>\n",
      "<a href=\"/ci/content/player/625371.html\">HH Pandya</a>\n",
      "<a href=\"/ci/content/player/931581.html\">RR Pant</a>\n",
      "<a href=\"/ci/content/player/32540.html\">CA Pujara</a>\n",
      "<a href=\"/ci/content/player/277916.html\">AM Rahane</a>\n",
      "<a href=\"/ci/content/player/422108.html\">KL Rahul</a>\n",
      "<a href=\"/ci/content/player/279810.html\">WP Saha</a>\n",
      "<a href=\"/ci/content/player/700167.html\">NA Saini</a>\n",
      "<a href=\"/ci/content/player/425943.html\">SV Samson</a>\n",
      "<a href=\"/ci/content/player/236779.html\">I Sharma</a>\n",
      "<a href=\"/ci/content/player/34102.html\">RG Sharma</a>\n",
      "<a href=\"/ci/content/player/1070168.html\">PP Shaw</a>\n",
      "<a href=\"/ci/content/player/475281.html\">SN Thakur</a>\n",
      "<a href=\"/ci/content/player/452044.html\">GH Vihari</a>\n",
      "<a href=\"/ci/content/player/719715.html\">Washington Sundar</a>\n",
      "<a href=\"/ci/content/player/376116.html\">UT Yadav</a>\n"
     ]
    }
   ],
   "source": [
    "##links can be used to get info from individual player pages\n",
    "for link in table.findAll(\"a\", href=re.compile(\"^(/ci/)((?!:).)*$\")):\n",
    "    print(link)"
   ]
  },
  {
   "cell_type": "code",
   "execution_count": null,
   "metadata": {},
   "outputs": [],
   "source": [
    "#investigate data organization on player pages \n"
   ]
  }
 ],
 "metadata": {
  "kernelspec": {
   "display_name": "Python 3",
   "language": "python",
   "name": "python3"
  },
  "language_info": {
   "codemirror_mode": {
    "name": "ipython",
    "version": 3
   },
   "file_extension": ".py",
   "mimetype": "text/x-python",
   "name": "python",
   "nbconvert_exporter": "python",
   "pygments_lexer": "ipython3",
   "version": "3.6.8"
  }
 },
 "nbformat": 4,
 "nbformat_minor": 2
}
